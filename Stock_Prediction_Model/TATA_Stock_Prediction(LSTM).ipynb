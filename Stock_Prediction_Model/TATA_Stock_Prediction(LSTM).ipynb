{
  "nbformat": 4,
  "nbformat_minor": 0,
  "metadata": {
    "colab": {
      "name": "TATA_Stock_Prediction(LSTM).ipynb",
      "provenance": [],
      "authorship_tag": "ABX9TyP2Cwdy4sdEPv/tfVWld5Ks",
      "include_colab_link": true
    },
    "kernelspec": {
      "name": "python3",
      "display_name": "Python 3"
    }
  },
  "cells": [
    {
      "cell_type": "markdown",
      "metadata": {
        "id": "view-in-github",
        "colab_type": "text"
      },
      "source": [
        "<a href=\"https://colab.research.google.com/github/VijayantShri/Machine_Learning_Models/blob/main/Stock_Prediction_Model/TATA_Stock_Prediction(LSTM).ipynb\" target=\"_parent\"><img src=\"https://colab.research.google.com/assets/colab-badge.svg\" alt=\"Open In Colab\"/></a>"
      ]
    },
    {
      "cell_type": "code",
      "metadata": {
        "id": "ottYWKW7sqBl"
      },
      "source": [
        "import numpy as np\r\n",
        "import matplotlib.pyplot as plt\r\n",
        "import pandas as pd"
      ],
      "execution_count": 1,
      "outputs": []
    },
    {
      "cell_type": "code",
      "metadata": {
        "id": "E9FZLmEJc7Ed"
      },
      "source": [
        "dataset_train = pd.read_csv(\"NSE-TATAGLOBAL.csv\")"
      ],
      "execution_count": 2,
      "outputs": []
    },
    {
      "cell_type": "code",
      "metadata": {
        "id": "rM_JCZIBdH6o"
      },
      "source": [
        "training_set = dataset_train.iloc[:, 1:2].values"
      ],
      "execution_count": 3,
      "outputs": []
    },
    {
      "cell_type": "code",
      "metadata": {
        "colab": {
          "base_uri": "https://localhost:8080/",
          "height": 195
        },
        "id": "kFWT6FPCdpQv",
        "outputId": "188138ac-366d-41fa-b35a-83210149505b"
      },
      "source": [
        "dataset_train.head()"
      ],
      "execution_count": 4,
      "outputs": [
        {
          "output_type": "execute_result",
          "data": {
            "text/html": [
              "<div>\n",
              "<style scoped>\n",
              "    .dataframe tbody tr th:only-of-type {\n",
              "        vertical-align: middle;\n",
              "    }\n",
              "\n",
              "    .dataframe tbody tr th {\n",
              "        vertical-align: top;\n",
              "    }\n",
              "\n",
              "    .dataframe thead th {\n",
              "        text-align: right;\n",
              "    }\n",
              "</style>\n",
              "<table border=\"1\" class=\"dataframe\">\n",
              "  <thead>\n",
              "    <tr style=\"text-align: right;\">\n",
              "      <th></th>\n",
              "      <th>Date</th>\n",
              "      <th>Open</th>\n",
              "      <th>High</th>\n",
              "      <th>Low</th>\n",
              "      <th>Last</th>\n",
              "      <th>Close</th>\n",
              "      <th>Total Trade Quantity</th>\n",
              "      <th>Turnover (Lacs)</th>\n",
              "    </tr>\n",
              "  </thead>\n",
              "  <tbody>\n",
              "    <tr>\n",
              "      <th>0</th>\n",
              "      <td>2018-09-28</td>\n",
              "      <td>234.05</td>\n",
              "      <td>235.95</td>\n",
              "      <td>230.20</td>\n",
              "      <td>233.50</td>\n",
              "      <td>233.75</td>\n",
              "      <td>3069914</td>\n",
              "      <td>7162.35</td>\n",
              "    </tr>\n",
              "    <tr>\n",
              "      <th>1</th>\n",
              "      <td>2018-09-27</td>\n",
              "      <td>234.55</td>\n",
              "      <td>236.80</td>\n",
              "      <td>231.10</td>\n",
              "      <td>233.80</td>\n",
              "      <td>233.25</td>\n",
              "      <td>5082859</td>\n",
              "      <td>11859.95</td>\n",
              "    </tr>\n",
              "    <tr>\n",
              "      <th>2</th>\n",
              "      <td>2018-09-26</td>\n",
              "      <td>240.00</td>\n",
              "      <td>240.00</td>\n",
              "      <td>232.50</td>\n",
              "      <td>235.00</td>\n",
              "      <td>234.25</td>\n",
              "      <td>2240909</td>\n",
              "      <td>5248.60</td>\n",
              "    </tr>\n",
              "    <tr>\n",
              "      <th>3</th>\n",
              "      <td>2018-09-25</td>\n",
              "      <td>233.30</td>\n",
              "      <td>236.75</td>\n",
              "      <td>232.00</td>\n",
              "      <td>236.25</td>\n",
              "      <td>236.10</td>\n",
              "      <td>2349368</td>\n",
              "      <td>5503.90</td>\n",
              "    </tr>\n",
              "    <tr>\n",
              "      <th>4</th>\n",
              "      <td>2018-09-24</td>\n",
              "      <td>233.55</td>\n",
              "      <td>239.20</td>\n",
              "      <td>230.75</td>\n",
              "      <td>234.00</td>\n",
              "      <td>233.30</td>\n",
              "      <td>3423509</td>\n",
              "      <td>7999.55</td>\n",
              "    </tr>\n",
              "  </tbody>\n",
              "</table>\n",
              "</div>"
            ],
            "text/plain": [
              "         Date    Open    High  ...   Close  Total Trade Quantity  Turnover (Lacs)\n",
              "0  2018-09-28  234.05  235.95  ...  233.75               3069914          7162.35\n",
              "1  2018-09-27  234.55  236.80  ...  233.25               5082859         11859.95\n",
              "2  2018-09-26  240.00  240.00  ...  234.25               2240909          5248.60\n",
              "3  2018-09-25  233.30  236.75  ...  236.10               2349368          5503.90\n",
              "4  2018-09-24  233.55  239.20  ...  233.30               3423509          7999.55\n",
              "\n",
              "[5 rows x 8 columns]"
            ]
          },
          "metadata": {
            "tags": []
          },
          "execution_count": 4
        }
      ]
    },
    {
      "cell_type": "code",
      "metadata": {
        "id": "2mgYCMkSdxTe"
      },
      "source": [
        "from sklearn.preprocessing import MinMaxScaler\r\n",
        "sc = MinMaxScaler(feature_range=(0, 1))\r\n",
        "training_set_scaled = sc.fit_transform(training_set)"
      ],
      "execution_count": 5,
      "outputs": []
    },
    {
      "cell_type": "markdown",
      "metadata": {
        "id": "5DppnBujlG27"
      },
      "source": [
        "Creating a Data structure with 60 timestamp and 1 output."
      ]
    },
    {
      "cell_type": "code",
      "metadata": {
        "id": "1MO59OCmkpIf"
      },
      "source": [
        "X_train = []\r\n",
        "y_train = []\r\n",
        "for i in range(60, 2035):\r\n",
        "  X_train.append(training_set_scaled[i-60:i, 0])\r\n",
        "  y_train.append(training_set_scaled[i, 0])\r\n",
        "X_train, y_train = np.array(X_train), np.array(y_train)"
      ],
      "execution_count": 6,
      "outputs": []
    },
    {
      "cell_type": "code",
      "metadata": {
        "id": "rB0XCHwdzm_c"
      },
      "source": [
        "X_train = np.reshape(X_train, (X_train.shape[0], X_train.shape[1], 1))"
      ],
      "execution_count": 7,
      "outputs": []
    },
    {
      "cell_type": "markdown",
      "metadata": {
        "id": "PYoYlGvt1Mt5"
      },
      "source": [
        "Importing some of the modules from **Keras**."
      ]
    },
    {
      "cell_type": "code",
      "metadata": {
        "id": "ch_gQug63AaM"
      },
      "source": [
        "from keras.models import Sequential\r\n",
        "from keras.layers import Dense\r\n",
        "from keras.layers import LSTM\r\n",
        "from keras.layers import Dropout"
      ],
      "execution_count": 8,
      "outputs": []
    },
    {
      "cell_type": "code",
      "metadata": {
        "id": "KQgdtqvV3WBv"
      },
      "source": [
        "regressor = Sequential()"
      ],
      "execution_count": 9,
      "outputs": []
    },
    {
      "cell_type": "code",
      "metadata": {
        "id": "RAE75vi14lU_"
      },
      "source": [
        "regressor.add(LSTM(units=50, return_sequences=True, input_shape=(X_train.shape[1], 1)))\r\n",
        "regressor.add(Dropout(0.2))"
      ],
      "execution_count": 10,
      "outputs": []
    },
    {
      "cell_type": "code",
      "metadata": {
        "id": "eMxZYGsH4mXf"
      },
      "source": [
        "regressor.add(LSTM(units=50, return_sequences=True))\r\n",
        "regressor.add(Dropout(0.2))"
      ],
      "execution_count": 11,
      "outputs": []
    },
    {
      "cell_type": "code",
      "metadata": {
        "id": "5u4MbNle4uv8"
      },
      "source": [
        "regressor.add(LSTM(units=50))\r\n",
        "regressor.add(Dropout(0.2))"
      ],
      "execution_count": 12,
      "outputs": []
    },
    {
      "cell_type": "code",
      "metadata": {
        "id": "Xk-VPAIv42Xw"
      },
      "source": [
        "regressor.add(Dense(units=1))"
      ],
      "execution_count": 13,
      "outputs": []
    },
    {
      "cell_type": "code",
      "metadata": {
        "id": "ghWdRhfM49yT"
      },
      "source": [
        "regressor.compile(optimizer='adam', loss='mean_squared_error')"
      ],
      "execution_count": 14,
      "outputs": []
    },
    {
      "cell_type": "code",
      "metadata": {
        "colab": {
          "base_uri": "https://localhost:8080/"
        },
        "id": "ktCzVrWaLKTr",
        "outputId": "9ada6223-d729-4bed-edce-95dc62a36133"
      },
      "source": [
        "regressor.fit(X_train, y_train, epochs=100, batch_size=32)"
      ],
      "execution_count": 15,
      "outputs": [
        {
          "output_type": "stream",
          "text": [
            "Epoch 1/100\n",
            "62/62 [==============================] - 10s 80ms/step - loss: 0.0207\n",
            "Epoch 2/100\n",
            "62/62 [==============================] - 5s 80ms/step - loss: 0.0021\n",
            "Epoch 3/100\n",
            "62/62 [==============================] - 5s 80ms/step - loss: 0.0022\n",
            "Epoch 4/100\n",
            "62/62 [==============================] - 5s 80ms/step - loss: 0.0026\n",
            "Epoch 5/100\n",
            "62/62 [==============================] - 5s 80ms/step - loss: 0.0025\n",
            "Epoch 6/100\n",
            "62/62 [==============================] - 5s 81ms/step - loss: 0.0018\n",
            "Epoch 7/100\n",
            "62/62 [==============================] - 5s 81ms/step - loss: 0.0018\n",
            "Epoch 8/100\n",
            "62/62 [==============================] - 5s 80ms/step - loss: 0.0019\n",
            "Epoch 9/100\n",
            "62/62 [==============================] - 5s 80ms/step - loss: 0.0018\n",
            "Epoch 10/100\n",
            "62/62 [==============================] - 5s 80ms/step - loss: 0.0016\n",
            "Epoch 11/100\n",
            "62/62 [==============================] - 5s 81ms/step - loss: 0.0017\n",
            "Epoch 12/100\n",
            "62/62 [==============================] - 5s 81ms/step - loss: 0.0014\n",
            "Epoch 13/100\n",
            "62/62 [==============================] - 5s 80ms/step - loss: 0.0015\n",
            "Epoch 14/100\n",
            "62/62 [==============================] - 5s 80ms/step - loss: 0.0017\n",
            "Epoch 15/100\n",
            "62/62 [==============================] - 5s 79ms/step - loss: 0.0014\n",
            "Epoch 16/100\n",
            "62/62 [==============================] - 5s 81ms/step - loss: 0.0013\n",
            "Epoch 17/100\n",
            "62/62 [==============================] - 5s 80ms/step - loss: 0.0012\n",
            "Epoch 18/100\n",
            "62/62 [==============================] - 5s 81ms/step - loss: 0.0014\n",
            "Epoch 19/100\n",
            "62/62 [==============================] - 5s 80ms/step - loss: 0.0013\n",
            "Epoch 20/100\n",
            "62/62 [==============================] - 5s 81ms/step - loss: 0.0013\n",
            "Epoch 21/100\n",
            "62/62 [==============================] - 5s 81ms/step - loss: 0.0013\n",
            "Epoch 22/100\n",
            "62/62 [==============================] - 5s 82ms/step - loss: 0.0011\n",
            "Epoch 23/100\n",
            "62/62 [==============================] - 5s 81ms/step - loss: 0.0011\n",
            "Epoch 24/100\n",
            "62/62 [==============================] - 5s 82ms/step - loss: 0.0011\n",
            "Epoch 25/100\n",
            "62/62 [==============================] - 5s 81ms/step - loss: 0.0011\n",
            "Epoch 26/100\n",
            "62/62 [==============================] - 5s 82ms/step - loss: 0.0013\n",
            "Epoch 27/100\n",
            "62/62 [==============================] - 5s 81ms/step - loss: 0.0011\n",
            "Epoch 28/100\n",
            "62/62 [==============================] - 5s 81ms/step - loss: 9.4523e-04\n",
            "Epoch 29/100\n",
            "62/62 [==============================] - 5s 81ms/step - loss: 0.0011\n",
            "Epoch 30/100\n",
            "62/62 [==============================] - 5s 81ms/step - loss: 8.7449e-04\n",
            "Epoch 31/100\n",
            "62/62 [==============================] - 5s 81ms/step - loss: 0.0011\n",
            "Epoch 32/100\n",
            "62/62 [==============================] - 5s 80ms/step - loss: 9.6928e-04\n",
            "Epoch 33/100\n",
            "62/62 [==============================] - 5s 81ms/step - loss: 0.0012\n",
            "Epoch 34/100\n",
            "62/62 [==============================] - 5s 82ms/step - loss: 7.8260e-04\n",
            "Epoch 35/100\n",
            "62/62 [==============================] - 5s 84ms/step - loss: 8.6109e-04\n",
            "Epoch 36/100\n",
            "62/62 [==============================] - 5s 83ms/step - loss: 7.4325e-04\n",
            "Epoch 37/100\n",
            "62/62 [==============================] - 5s 83ms/step - loss: 8.5342e-04\n",
            "Epoch 38/100\n",
            "62/62 [==============================] - 5s 84ms/step - loss: 8.3749e-04\n",
            "Epoch 39/100\n",
            "62/62 [==============================] - 5s 84ms/step - loss: 8.8395e-04\n",
            "Epoch 40/100\n",
            "62/62 [==============================] - 5s 83ms/step - loss: 7.6546e-04\n",
            "Epoch 41/100\n",
            "62/62 [==============================] - 5s 84ms/step - loss: 7.7077e-04\n",
            "Epoch 42/100\n",
            "62/62 [==============================] - 5s 83ms/step - loss: 7.1524e-04\n",
            "Epoch 43/100\n",
            "62/62 [==============================] - 5s 83ms/step - loss: 7.5384e-04\n",
            "Epoch 44/100\n",
            "62/62 [==============================] - 5s 83ms/step - loss: 8.0837e-04\n",
            "Epoch 45/100\n",
            "62/62 [==============================] - 5s 83ms/step - loss: 8.2660e-04\n",
            "Epoch 46/100\n",
            "62/62 [==============================] - 5s 83ms/step - loss: 7.1460e-04\n",
            "Epoch 47/100\n",
            "62/62 [==============================] - 5s 82ms/step - loss: 8.2934e-04\n",
            "Epoch 48/100\n",
            "62/62 [==============================] - 5s 83ms/step - loss: 7.7815e-04\n",
            "Epoch 49/100\n",
            "62/62 [==============================] - 5s 83ms/step - loss: 6.4184e-04\n",
            "Epoch 50/100\n",
            "62/62 [==============================] - 5s 83ms/step - loss: 7.7391e-04\n",
            "Epoch 51/100\n",
            "62/62 [==============================] - 5s 82ms/step - loss: 7.4995e-04\n",
            "Epoch 52/100\n",
            "62/62 [==============================] - 5s 84ms/step - loss: 7.0542e-04\n",
            "Epoch 53/100\n",
            "62/62 [==============================] - 5s 84ms/step - loss: 6.0708e-04\n",
            "Epoch 54/100\n",
            "62/62 [==============================] - 5s 84ms/step - loss: 7.1506e-04\n",
            "Epoch 55/100\n",
            "62/62 [==============================] - 5s 85ms/step - loss: 6.5915e-04\n",
            "Epoch 56/100\n",
            "62/62 [==============================] - 5s 84ms/step - loss: 7.6039e-04\n",
            "Epoch 57/100\n",
            "62/62 [==============================] - 5s 84ms/step - loss: 7.4058e-04\n",
            "Epoch 58/100\n",
            "62/62 [==============================] - 5s 85ms/step - loss: 6.4884e-04\n",
            "Epoch 59/100\n",
            "62/62 [==============================] - 5s 84ms/step - loss: 6.3106e-04\n",
            "Epoch 60/100\n",
            "62/62 [==============================] - 5s 85ms/step - loss: 7.4029e-04\n",
            "Epoch 61/100\n",
            "62/62 [==============================] - 5s 84ms/step - loss: 6.5390e-04\n",
            "Epoch 62/100\n",
            "62/62 [==============================] - 5s 84ms/step - loss: 6.4327e-04\n",
            "Epoch 63/100\n",
            "62/62 [==============================] - 5s 84ms/step - loss: 7.0559e-04\n",
            "Epoch 64/100\n",
            "62/62 [==============================] - 5s 84ms/step - loss: 7.5228e-04\n",
            "Epoch 65/100\n",
            "62/62 [==============================] - 5s 83ms/step - loss: 5.1094e-04\n",
            "Epoch 66/100\n",
            "62/62 [==============================] - 5s 83ms/step - loss: 6.3791e-04\n",
            "Epoch 67/100\n",
            "62/62 [==============================] - 5s 84ms/step - loss: 6.4189e-04\n",
            "Epoch 68/100\n",
            "62/62 [==============================] - 5s 84ms/step - loss: 7.0677e-04\n",
            "Epoch 69/100\n",
            "62/62 [==============================] - 5s 84ms/step - loss: 5.6876e-04\n",
            "Epoch 70/100\n",
            "62/62 [==============================] - 5s 84ms/step - loss: 6.5833e-04\n",
            "Epoch 71/100\n",
            "62/62 [==============================] - 5s 85ms/step - loss: 5.0709e-04\n",
            "Epoch 72/100\n",
            "62/62 [==============================] - 5s 84ms/step - loss: 6.0972e-04\n",
            "Epoch 73/100\n",
            "62/62 [==============================] - 5s 84ms/step - loss: 6.4183e-04\n",
            "Epoch 74/100\n",
            "62/62 [==============================] - 5s 85ms/step - loss: 7.8627e-04\n",
            "Epoch 75/100\n",
            "62/62 [==============================] - 5s 84ms/step - loss: 5.8370e-04\n",
            "Epoch 76/100\n",
            "62/62 [==============================] - 5s 85ms/step - loss: 6.3513e-04\n",
            "Epoch 77/100\n",
            "62/62 [==============================] - 5s 85ms/step - loss: 5.8155e-04\n",
            "Epoch 78/100\n",
            "62/62 [==============================] - 5s 84ms/step - loss: 6.6144e-04\n",
            "Epoch 79/100\n",
            "62/62 [==============================] - 5s 85ms/step - loss: 6.8759e-04\n",
            "Epoch 80/100\n",
            "62/62 [==============================] - 5s 85ms/step - loss: 4.9861e-04\n",
            "Epoch 81/100\n",
            "62/62 [==============================] - 5s 85ms/step - loss: 6.8001e-04\n",
            "Epoch 82/100\n",
            "62/62 [==============================] - 5s 85ms/step - loss: 6.7989e-04\n",
            "Epoch 83/100\n",
            "62/62 [==============================] - 5s 85ms/step - loss: 5.8606e-04\n",
            "Epoch 84/100\n",
            "62/62 [==============================] - 5s 84ms/step - loss: 6.8458e-04\n",
            "Epoch 85/100\n",
            "62/62 [==============================] - 5s 85ms/step - loss: 7.3300e-04\n",
            "Epoch 86/100\n",
            "62/62 [==============================] - 5s 84ms/step - loss: 6.0971e-04\n",
            "Epoch 87/100\n",
            "62/62 [==============================] - 5s 86ms/step - loss: 5.1619e-04\n",
            "Epoch 88/100\n",
            "62/62 [==============================] - 5s 85ms/step - loss: 5.9941e-04\n",
            "Epoch 89/100\n",
            "62/62 [==============================] - 5s 85ms/step - loss: 5.8072e-04\n",
            "Epoch 90/100\n",
            "62/62 [==============================] - 5s 85ms/step - loss: 7.1494e-04\n",
            "Epoch 91/100\n",
            "62/62 [==============================] - 5s 86ms/step - loss: 6.1897e-04\n",
            "Epoch 92/100\n",
            "62/62 [==============================] - 5s 84ms/step - loss: 6.0380e-04\n",
            "Epoch 93/100\n",
            "62/62 [==============================] - 5s 85ms/step - loss: 5.1428e-04\n",
            "Epoch 94/100\n",
            "62/62 [==============================] - 5s 84ms/step - loss: 5.3514e-04\n",
            "Epoch 95/100\n",
            "62/62 [==============================] - 5s 85ms/step - loss: 6.5963e-04\n",
            "Epoch 96/100\n",
            "62/62 [==============================] - 5s 85ms/step - loss: 5.4444e-04\n",
            "Epoch 97/100\n",
            "62/62 [==============================] - 5s 85ms/step - loss: 5.8110e-04\n",
            "Epoch 98/100\n",
            "62/62 [==============================] - 5s 86ms/step - loss: 5.3538e-04\n",
            "Epoch 99/100\n",
            "62/62 [==============================] - 5s 87ms/step - loss: 5.4136e-04\n",
            "Epoch 100/100\n",
            "62/62 [==============================] - 5s 85ms/step - loss: 5.6263e-04\n"
          ],
          "name": "stdout"
        },
        {
          "output_type": "execute_result",
          "data": {
            "text/plain": [
              "<tensorflow.python.keras.callbacks.History at 0x7efeb1f0dc90>"
            ]
          },
          "metadata": {
            "tags": []
          },
          "execution_count": 15
        }
      ]
    },
    {
      "cell_type": "markdown",
      "metadata": {
        "id": "EfnGlj81LYRY"
      },
      "source": [
        "**Making Predictions and Visualizing the results**"
      ]
    },
    {
      "cell_type": "markdown",
      "metadata": {
        "id": "YwTS4FabhFkF"
      },
      "source": [
        "First We import the test data"
      ]
    },
    {
      "cell_type": "code",
      "metadata": {
        "id": "FFTnplMIhOEm"
      },
      "source": [
        "dataset_test = pd.read_csv('tatatest.csv')\r\n",
        "real_stock_price = dataset_test.iloc[:, 1:2].values"
      ],
      "execution_count": 16,
      "outputs": []
    },
    {
      "cell_type": "markdown",
      "metadata": {
        "id": "eHA3vdFfie3z"
      },
      "source": [
        "*Prediction*"
      ]
    },
    {
      "cell_type": "code",
      "metadata": {
        "id": "oJQilYB6jJE3"
      },
      "source": [
        "dataset_total = pd.concat((dataset_train['Open'], dataset_test['Open']), axis=0)"
      ],
      "execution_count": 17,
      "outputs": []
    },
    {
      "cell_type": "code",
      "metadata": {
        "id": "wmWyy4RvjiEA"
      },
      "source": [
        "inputs = dataset_total[len(dataset_total) - len(dataset_test) - 60:].values\r\n",
        "inputs = inputs.reshape(-1, 1)\r\n",
        "inputs = sc.transform(inputs)\r\n",
        "X_test = []\r\n",
        "for i in range(60, 76):\r\n",
        "  X_test.append(inputs[i-60:i, 0])\r\n",
        "X_test = np.array(X_test)\r\n",
        "X_test = np.reshape(X_test, (X_test.shape[0], X_test.shape[1], 1))"
      ],
      "execution_count": 18,
      "outputs": []
    },
    {
      "cell_type": "code",
      "metadata": {
        "id": "D4-Z0n8Sltw-"
      },
      "source": [
        "predicted_stock_price = regressor.predict(X_test)\r\n",
        "predicted_stock_price = sc.inverse_transform(predicted_stock_price)"
      ],
      "execution_count": 19,
      "outputs": []
    },
    {
      "cell_type": "code",
      "metadata": {
        "colab": {
          "base_uri": "https://localhost:8080/"
        },
        "id": "Urv3XPAjm6pl",
        "outputId": "2f410a3a-3f21-4802-b753-e346a7929d1d"
      },
      "source": [
        "predicted_stock_price[0][0]"
      ],
      "execution_count": 20,
      "outputs": [
        {
          "output_type": "execute_result",
          "data": {
            "text/plain": [
              "122.07147"
            ]
          },
          "metadata": {
            "tags": []
          },
          "execution_count": 20
        }
      ]
    },
    {
      "cell_type": "code",
      "metadata": {
        "colab": {
          "base_uri": "https://localhost:8080/",
          "height": 295
        },
        "id": "ee8lMyFilvPC",
        "outputId": "94397666-f21d-486c-fce0-97c3f5007d5d"
      },
      "source": [
        "plt.plot(real_stock_price, color='blue', label='TATA Stock Price')\r\n",
        "plt.plot(predicted_stock_price, color='red', label='Predicted TATA Stock Prices')\r\n",
        "plt.title('Tata Stock Price Prediction')\r\n",
        "plt.xlabel('Time')\r\n",
        "plt.ylabel('TATA Stock Price')\r\n",
        "plt.legend()\r\n",
        "plt.show()"
      ],
      "execution_count": 21,
      "outputs": [
        {
          "output_type": "display_data",
          "data": {
            "image/png": "[encoded data removed]",
            "text/plain": [
              "<Figure size 432x288 with 1 Axes>"
            ]
          },
          "metadata": {
            "tags": [],
            "needs_background": "light"
          }
        }
      ]
    },
    {
      "cell_type": "code",
      "metadata": {
        "id": "zVP-Nl40mvYn"
      },
      "source": [
        ""
      ],
      "execution_count": 21,
      "outputs": []
    }
  ]
}